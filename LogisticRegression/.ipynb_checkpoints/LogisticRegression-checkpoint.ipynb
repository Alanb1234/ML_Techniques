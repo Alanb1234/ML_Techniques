{
 "cells": [
  {
   "cell_type": "markdown",
   "id": "dcc12e00",
   "metadata": {},
   "source": [
    "# Logistic Regression"
   ]
  },
  {
   "cell_type": "markdown",
   "id": "c2413881",
   "metadata": {},
   "source": [
    "Logistic regression is similar to linear regression except it predict weather something is true or false instead of predicting something continous like size. Instead of fitting a line to the data, logistic regression fits an \"S\" shaped \"logistic function\". The curve goes from 0 to 1. It is usually used for classification. "
   ]
  },
  {
   "cell_type": "markdown",
   "id": "bfc751e6",
   "metadata": {},
   "source": [
    "Logistic regression can work with both continious and discrete data "
   ]
  },
  {
   "cell_type": "markdown",
   "id": "b2d6538c",
   "metadata": {},
   "source": [
    "We test to see if a variable's effect of a prediction is significantly different from 0. If not, It means that the variable is not helping the prediction (Wald's Test)."
   ]
  },
  {
   "cell_type": "code",
   "execution_count": null,
   "id": "69662cd4",
   "metadata": {},
   "outputs": [],
   "source": []
  }
 ],
 "metadata": {
  "kernelspec": {
   "display_name": "Python 3 (ipykernel)",
   "language": "python",
   "name": "python3"
  },
  "language_info": {
   "codemirror_mode": {
    "name": "ipython",
    "version": 3
   },
   "file_extension": ".py",
   "mimetype": "text/x-python",
   "name": "python",
   "nbconvert_exporter": "python",
   "pygments_lexer": "ipython3",
   "version": "3.11.5"
  }
 },
 "nbformat": 4,
 "nbformat_minor": 5
}
