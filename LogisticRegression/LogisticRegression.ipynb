{
 "cells": [
  {
   "cell_type": "markdown",
   "id": "ad2105f9",
   "metadata": {},
   "source": [
    "# Logistic Regression"
   ]
  },
  {
   "cell_type": "markdown",
   "id": "522af858",
   "metadata": {},
   "source": [
    "Logistic regression is similar to linear regression except it predict weather something is true or false instead of predicting something continous like size. Instead of fitting a line to the data, logistic regression fits an \"S\" shaped \"logistic function\". The curve goes from 0 to 1. It is usually used for classification. "
   ]
  },
  {
   "cell_type": "markdown",
   "id": "5678357b",
   "metadata": {},
   "source": [
    "Logistic regression can work with both continious and discrete data "
   ]
  },
  {
   "cell_type": "markdown",
   "id": "01985479",
   "metadata": {},
   "source": [
    "We test to see if a variable's effect of a prediction is significantly different from 0. If not, It means that the variable is not helping the prediction (Wald's Test)."
   ]
  },
  {
   "cell_type": "markdown",
   "id": "ed7975a6",
   "metadata": {},
   "source": [
    "In linear regression we fit the line using leasts squares (we find the line that minimizes the sum of the squares of the residuals). Logistic regression uses maximum likelihood (a statistical method for estimating the parameters of a model by maximizing a likelihood function, thereby making the observed data most probable under the assumed model."
   ]
  },
  {
   "cell_type": "code",
   "execution_count": null,
   "id": "ed6eb3a4",
   "metadata": {},
   "outputs": [],
   "source": []
  }
 ],
 "metadata": {
  "kernelspec": {
   "display_name": "Python 3 (ipykernel)",
   "language": "python",
   "name": "python3"
  },
  "language_info": {
   "codemirror_mode": {
    "name": "ipython",
    "version": 3
   },
   "file_extension": ".py",
   "mimetype": "text/x-python",
   "name": "python",
   "nbconvert_exporter": "python",
   "pygments_lexer": "ipython3",
   "version": "3.11.5"
  }
 },
 "nbformat": 4,
 "nbformat_minor": 5
}
